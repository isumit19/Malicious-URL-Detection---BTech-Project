{
 "metadata": {
  "language_info": {
   "codemirror_mode": {
    "name": "ipython",
    "version": 3
   },
   "file_extension": ".py",
   "mimetype": "text/x-python",
   "name": "python",
   "nbconvert_exporter": "python",
   "pygments_lexer": "ipython3",
   "version": "3.6.0"
  },
  "orig_nbformat": 2,
  "kernelspec": {
   "name": "python36064bit2dcd7765990c4d5bbe4a3dbd7fbebdb3",
   "display_name": "Python 3.6.0 64-bit"
  },
  "metadata": {
   "interpreter": {
    "hash": "6ba569e6e14c6a6cb30034dc09f2ba2802082f0801da3ce64789f0f071e12900"
   }
  }
 },
 "nbformat": 4,
 "nbformat_minor": 2,
 "cells": [
  {
   "source": [
    "### Libraries"
   ],
   "cell_type": "markdown",
   "metadata": {}
  },
  {
   "cell_type": "code",
   "execution_count": 1,
   "metadata": {},
   "outputs": [],
   "source": [
    "import pandas\n",
    "import ipaddress as ip\n",
    "import re"
   ]
  },
  {
   "source": [
    "### Dataset"
   ],
   "cell_type": "markdown",
   "metadata": {}
  },
  {
   "cell_type": "code",
   "execution_count": 2,
   "metadata": {},
   "outputs": [
    {
     "output_type": "stream",
     "name": "stdout",
     "text": [
      "                                                     url  label\n0          http://quivering-paragraph.000webhostapp.com/      1\n1      http://texashomeinspectorsguide.com/pspp/psp/p...      1\n2                                 http://www.gameswf.com      0\n3                               http://www.evflower.com/      0\n4                                http://www.alt-arch.org      0\n5                                http://www.sitemapx.net      0\n6                           http://www.markaztamirat.com      0\n7                        http://www.anandfoundation.com/      0\n8      http://villaelina.com/includes/samples/express...      1\n9                             http://www.zenithmedia.com      0\n10                          http://www.guildmortgage.com      0\n11           https://serviciosestetica.es/layouts/ub.php      1\n12                   http://down.smalltool.cn/new/090527      1\n13                                 http://www.leap.co.uk      0\n14                                  http://newgadgets.in      1\n15                       http://www.garmoniya-taganka.ru      0\n16     http://onlinekeybbs.com/customer_center/custom...      1\n17     http://nautilusenvironmental.com/wp-content/up...      1\n18                                  http://www.grabi.org      0\n19     http://app-1519603128.000webhostapp.com/ato/sc...      1\n20     http://drivers.drp.su/CardReader/Ricoh/WinAll/...      1\n21                          http://www.ladiesoffaith.org      0\n22        https://sites.google.com/site/helpid009119700/      1\n23                                   http://www.cback.de      0\n24                                 http://liceulogoga.ro      1\n25       http://installer.jdownloader.org/version_277162      1\n26                                  http://www.onload.pw      0\n27     http://maria-chelyapinaru.432.com1.ru/wellss/2...      1\n28     http://e-p-s.de/wordpress/wp-content/themes/st...      1\n29     http://xj45g.mjt.lu/lnk/AUcAABaodJYAAAAAAAAAAF...      1\n...                                                  ...    ...\n13614  http://02-billing-support.org/login.php?id=0af...      1\n13615                           http://www.fh-zwickau.de      0\n13616                       http://www.villeroy-boch.com      0\n13617                         http://www.internet-abc.de      0\n13618                           http://gdergi.com/images      1\n13619                                 http://allxscan.tk      1\n13620                           http://www.songseller.ru      0\n13621                               http://tcy.mqego.com      1\n13622           http://pragmakratos.com/usus/onedrive365      1\n13623                 http://site.webtupi.com.br/js/jmj/      1\n13624                        http://www.theglobepost.com      0\n13625                http://makholding.ae/ae/pdp/ph/lda/      1\n13626  http://tool.duowan.com/lol/box/update/6.6.4/Tools      1\n13627                   http://www.maxifortzimax100mg.ru      0\n13628  http://45.79.80.86/public/silent_apk/1883/2900...      1\n13629                   http://www.leblogdebigbeauty.com      0\n13630                               http://www.hxdec.com      0\n13631                            http://www.disctech.com      0\n13632                            http://www.llgaj.gov.cn      0\n13633                               http://184.168.189.1      1\n13634                http://podaro4ki.kl.com.ua/auth.php      1\n13635            http://espoint.it/try/.secure/index.php      1\n13636  http://www.dk174.ru/wp-content/themes/img/sec1...      1\n13637                         http://www.saharasamay.com      0\n13638                         http://www.micropython.org      0\n13639              http://www.academiadeseguridadats.com      0\n13640  http://mobile.free.fr.oreo-e-assistance.net/3c...      1\n13641                            http://185.232.23.73/ex      1\n13642                            http://www.leafsnap.com      0\n13643                                 http://www.daft.ie      0\n\n[13644 rows x 2 columns]\n"
     ]
    }
   ],
   "source": [
    "data = pandas.read_csv(\"final_dataset.csv\").sample(frac=.1).reset_index(drop=True)\n",
    "print(data)"
   ]
  },
  {
   "source": [
    "### Feature Set"
   ],
   "cell_type": "markdown",
   "metadata": {}
  },
  {
   "cell_type": "code",
   "execution_count": 3,
   "metadata": {},
   "outputs": [
    {
     "output_type": "execute_result",
     "data": {
      "text/plain": [
       "Empty DataFrame\n",
       "Columns: [URL_Length, Dots_Count, Suspicious_TLD, Hyphen_Count, Subdir_Count, Domain_Length, IP_Present, Double_Slash_Count, URL_Shortening_Service, Count_SubDomain (Domain_Tokens), Count_Queries, Count_At_Symbol, Presence of %20, digit/letter, special_characters]\n",
       "Index: []"
      ],
      "text/html": "<div>\n<style scoped>\n    .dataframe tbody tr th:only-of-type {\n        vertical-align: middle;\n    }\n\n    .dataframe tbody tr th {\n        vertical-align: top;\n    }\n\n    .dataframe thead th {\n        text-align: right;\n    }\n</style>\n<table border=\"1\" class=\"dataframe\">\n  <thead>\n    <tr style=\"text-align: right;\">\n      <th></th>\n      <th>URL_Length</th>\n      <th>Dots_Count</th>\n      <th>Suspicious_TLD</th>\n      <th>Hyphen_Count</th>\n      <th>Subdir_Count</th>\n      <th>Domain_Length</th>\n      <th>IP_Present</th>\n      <th>Double_Slash_Count</th>\n      <th>URL_Shortening_Service</th>\n      <th>Count_SubDomain (Domain_Tokens)</th>\n      <th>Count_Queries</th>\n      <th>Count_At_Symbol</th>\n      <th>Presence of %20</th>\n      <th>digit/letter</th>\n      <th>special_characters</th>\n    </tr>\n  </thead>\n  <tbody>\n  </tbody>\n</table>\n</div>"
     },
     "metadata": {},
     "execution_count": 3
    }
   ],
   "source": [
    "featureSet = pandas.DataFrame(columns=('URL_Length', 'Dots_Count', 'Suspicious_TLD', 'Hyphen_Count', 'Subdir_Count', 'Domain_Length', 'IP_Present','Double_Slash_Count', 'URL_Shortening_Service', 'Count_SubDomain (Domain_Tokens)', 'Count_Queries', 'Count_At_Symbol', 'Presence of %20', 'digit/letter', 'special_characters'))\n",
    "featureSet"
   ]
  },
  {
   "cell_type": "code",
   "execution_count": 4,
   "metadata": {},
   "outputs": [],
   "source": [
    "from urllib.parse import urlparse\n",
    "import tldextract\n",
    "\n",
    "suspicious_TLD = ['country' , 'kim' , 'science', 'gq', 'work', 'ninja', 'xyz', 'date', 'faith', 'zip', 'racing', 'cricket', 'win','space','accountant','realtor','top','stream','christmas','gdn','mom','pro','men']\n",
    "\n",
    "\n",
    "shortening_services = r\"bit\\.ly|goo\\.gl|shorte\\.st|go2l\\.ink|x\\.co|ow\\.ly|t\\.co|tinyurl|tr\\.im|is\\.gd|cli\\.gs|\" \\\n",
    "                      r\"yfrog\\.com|migre\\.me|ff\\.im|tiny\\.cc|url4\\.eu|twit\\.ac|su\\.pr|twurl\\.nl|snipurl\\.com|\" \\\n",
    "                      r\"short\\.to|BudURL\\.com|ping\\.fm|post\\.ly|Just\\.as|bkite\\.com|snipr\\.com|fic\\.kr|loopt\\.us|\" \\\n",
    "                      r\"doiop\\.com|short\\.ie|kl\\.am|wp\\.me|rubyurl\\.com|om\\.ly|to\\.ly|bit\\.do|t\\.co|lnkd\\.in|db\\.tt|\" \\\n",
    "                      r\"qr\\.ae|adf\\.ly|goo\\.gl|bitly\\.com|cur\\.lv|tinyurl\\.com|ow\\.ly|bit\\.ly|ity\\.im|q\\.gs|is\\.gd|\" \\\n",
    "                      r\"po\\.st|bc\\.vc|twitthis\\.com|u\\.to|j\\.mp|buzurl\\.com|cutt\\.us|u\\.bb|yourls\\.org|x\\.co|\" \\\n",
    "                      r\"prettylinkpro\\.com|scrnch\\.me|filoops\\.info|vzturl\\.com|qr\\.net|1url\\.com|tweez\\.me|v\\.gd|\" \\\n",
    "                      r\"tr\\.im|link\\.zip\\.net\"\n",
    "def is_ip(url):\n",
    "    try:\n",
    "        if ip.ip_address(url):\n",
    "            return 1\n",
    "    except:\n",
    "            return 0\n",
    "def count_subdomain(sub):\n",
    "    if not sub:\n",
    "        return 0\n",
    "    else:\n",
    "        return len(sub.split('.'))\n",
    "\n",
    "def extract_features(url):\n",
    "    vector = []\n",
    "    path  = urlparse(url)\n",
    "    ext = tldextract.extract(url)\n",
    "    #print(path,ext)\n",
    "\n",
    "\n",
    "    vector.append(len(url))\n",
    "    vector.append(url.count('.'))\n",
    "    vector.append(1 if ext.suffix in suspicious_TLD else 0)\n",
    "    vector.append(url.count('-'))\n",
    "    vector.append(path.path.count('/'))\n",
    "    vector.append(len(path.netloc))\n",
    "    vector.append(is_ip(url))\n",
    "    vector.append(url.count('//'))\n",
    "    vector.append(1 if re.search(shortening_services, url) else 0)\n",
    "    vector.append(count_subdomain(ext.subdomain))\n",
    "    vector.append(path.query.count('='))\n",
    "    vector.append(url.count('@'))\n",
    "    vector.append(0 if path.path.find('%20')==-1 else 1)\n",
    "    d=l=spc=0\n",
    "    for c in url:\n",
    "        if c.isdigit():\n",
    "            d=d+1\n",
    "        elif c.isalpha():\n",
    "            l=l+1\n",
    "        else:\n",
    "            pass\n",
    "    for c in path.path:\n",
    "        if c.isdigit():\n",
    "            pass\n",
    "        elif c.isalpha():\n",
    "            pass\n",
    "        else:\n",
    "            spc+=1\n",
    "    vector.append(d/(l if l!=0 else 1))\n",
    "    vector.append(spc)\n",
    "    return vector\n",
    "    "
   ]
  },
  {
   "cell_type": "code",
   "execution_count": 5,
   "metadata": {},
   "outputs": [
    {
     "output_type": "stream",
     "name": "stdout",
     "text": [
      "[41, 3, 0, 0, 2, 21, 0, 1, 0, 1, 0, 0, 0, 0.03125, 3]\n"
     ]
    }
   ],
   "source": [
    "url = 'https://www.drive.google.com/drive/page.php'\n",
    "\n",
    "print(extract_features('https://www.bfuduuioo1fp.mobi/ws/file.dll'))\n",
    "#print(urlparse(url), tldextract.extract(url))"
   ]
  },
  {
   "source": [
    "### Get Features"
   ],
   "cell_type": "markdown",
   "metadata": {}
  },
  {
   "cell_type": "code",
   "execution_count": 6,
   "metadata": {
    "tags": []
   },
   "outputs": [],
   "source": [
    "from pathlib import Path\n",
    "\n",
    "my_file = Path(\"final_features.csv\")\n",
    "if my_file.is_file():\n",
    "    featureSet = pandas.read_csv('final_features.csv')\n",
    "else:\n",
    "    for i in range(len(data)):\n",
    "        featureSet.loc[i] = extract_features(data[\"url\"].loc[i])\n",
    "    featureSet.to_csv('final_features.csv',index=False)"
   ]
  },
  {
   "source": [
    "### Chart"
   ],
   "cell_type": "markdown",
   "metadata": {}
  },
  {
   "cell_type": "code",
   "execution_count": 7,
   "metadata": {},
   "outputs": [
    {
     "output_type": "stream",
     "name": "stdout",
     "text": [
      "                              Specs          Score\n0                        URL_Length  125495.788600\n14               special_characters   23204.583401\n4                      Subdir_Count   16550.957355\n10                    Count_Queries    2621.122577\n3                      Hyphen_Count    2421.662696\n13                     digit/letter     975.165984\n9   Count_SubDomain (Domain_Tokens)     633.952588\n11                  Count_At_Symbol     280.515789\n1                        Dots_Count     152.832042\n12                  Presence of %20      89.526316\n"
     ]
    }
   ],
   "source": [
    "import pandas as pd\n",
    "import numpy as np\n",
    "from sklearn.feature_selection import SelectKBest\n",
    "from sklearn.feature_selection import chi2\n",
    "#apply SelectKBest class to extract top 10 best features\n",
    "bestfeatures = SelectKBest(score_func=chi2, k=10)\n",
    "X = featureSet\n",
    "y = data['label']\n",
    "fit = bestfeatures.fit(X,y)\n",
    "dfscores = pd.DataFrame(fit.scores_)\n",
    "dfcolumns = pd.DataFrame(X.columns)\n",
    "#concat two dataframes for better visualization \n",
    "featureScores = pd.concat([dfcolumns,dfscores],axis=1)\n",
    "featureScores.columns = ['Specs','Score']  #naming the dataframe columns\n",
    "print(featureScores.nlargest(10,'Score'))  #print 10 best features"
   ]
  },
  {
   "cell_type": "code",
   "execution_count": 8,
   "metadata": {},
   "outputs": [
    {
     "output_type": "display_data",
     "data": {
      "text/plain": "<Figure size 640x480 with 1 Axes>"
     },
     "metadata": {}
    }
   ],
   "source": [
    "import pandas as pd\n",
    "import numpy as np\n",
    "from sklearn.ensemble import ExtraTreesClassifier\n",
    "import matplotlib.pyplot as plt\n",
    "#X = data.iloc[:,1:12]  #independent columns\n",
    "#y = data.iloc[:,-1].astype('int')   #target column i.e price range\n",
    "model = ExtraTreesClassifier()\n",
    "model.fit(X,y)\n",
    "#print(model.feature_importances_) #use inbuilt class feature_importances of tree based classifiers\n",
    "#plot graph of feature importances for better visualization\n",
    "feat_importances = pd.Series(model.feature_importances_, index=X.columns)\n",
    "feat_importances.nlargest(10).plot(kind='barh')\n",
    "plt.show()"
   ]
  },
  {
   "cell_type": "code",
   "execution_count": 9,
   "metadata": {},
   "outputs": [
    {
     "output_type": "stream",
     "name": "stdout",
     "text": [
      "[0, 14, 4, 10, 3, 13, 9, 11, 1, 12]\n"
     ]
    }
   ],
   "source": [
    "temp = list(featureScores.nlargest(10,'Score').index)\n",
    "print(temp)\n",
    "featureSet = featureSet.iloc[:, temp]\n"
   ]
  },
  {
   "source": [
    "#### 75% malicious 25% benign"
   ],
   "cell_type": "markdown",
   "metadata": {}
  },
  {
   "cell_type": "code",
   "execution_count": 10,
   "metadata": {},
   "outputs": [],
   "source": [
    "from sklearn.svm import SVC\n",
    "from sklearn.model_selection import train_test_split\n",
    "X = featureSet.values\n",
    "y = data['label'].values\n",
    "\n",
    "X_train, X_test, y_train, y_test = train_test_split(X, y, test_size=0.2, shuffle=True, stratify=y,random_state=0)"
   ]
  },
  {
   "source": [
    "### SVM"
   ],
   "cell_type": "markdown",
   "metadata": {}
  },
  {
   "cell_type": "code",
   "execution_count": 11,
   "metadata": {},
   "outputs": [
    {
     "output_type": "stream",
     "name": "stdout",
     "text": [
      "0.9387081997251489\n"
     ]
    },
    {
     "output_type": "execute_result",
     "data": {
      "text/plain": [
       "0.9329424697691462"
      ]
     },
     "metadata": {},
     "execution_count": 11
    }
   ],
   "source": [
    "model = SVC(kernel='linear')\n",
    "model.fit(X_train, y_train)\n",
    "print(model.score(X_train, y_train))\n",
    "score = model.score(X_test, y_test)\n",
    "score"
   ]
  },
  {
   "source": [
    "### Random Forest"
   ],
   "cell_type": "markdown",
   "metadata": {}
  },
  {
   "cell_type": "code",
   "execution_count": 12,
   "metadata": {},
   "outputs": [],
   "source": [
    "# from sklearn.model_selection import validation_curve\n",
    "# from sklearn.ensemble import RandomForestClassifier\n",
    "# train_scoreNum, test_scoreNum = validation_curve(\n",
    "#                                 RandomForestClassifier(),\n",
    "#                                 X = X_train, y = y_train, \n",
    "#                                 param_name = 'n_estimators', \n",
    "#                                 param_range = (1,1000))\n",
    "# print(train_scoreNum)\n",
    "# print(test_scoreNum)\n",
    "# https://towardsdatascience.com/optimizing-hyperparameters-in-random-forest-classification-ec7741f9d3f6\n"
   ]
  },
  {
   "cell_type": "code",
   "execution_count": 13,
   "metadata": {},
   "outputs": [
    {
     "output_type": "stream",
     "name": "stdout",
     "text": [
      "\n",
      "ACCURACY OF THE MODEL:  0.972972972972973\n",
      "ACCURACY OF THE MODEL:  0.9618908024917552\n"
     ]
    }
   ],
   "source": [
    "from sklearn.ensemble import RandomForestClassifier\n",
    "clf = RandomForestClassifier(n_estimators = 100)  \n",
    "  \n",
    "# Training the model on the training dataset\n",
    "# fit function is used to train the model using the training sets as parameters\n",
    "clf.fit(X_train, y_train)\n",
    "  \n",
    "# performing predictions on the test dataset\n",
    "y_pred = clf.predict(X_test)\n",
    "  \n",
    "# metrics are used to find accuracy or error\n",
    "from sklearn import metrics  \n",
    "print()\n",
    "  \n",
    "print(\"ACCURACY OF THE MODEL: \", metrics.accuracy_score(y_train, clf.predict(X_train)))\n",
    "# using metrics module for accuracy calculation\n",
    "print(\"ACCURACY OF THE MODEL: \", metrics.accuracy_score(y_test, y_pred))"
   ]
  },
  {
   "source": [
    "### Saving the Model"
   ],
   "cell_type": "markdown",
   "metadata": {}
  },
  {
   "cell_type": "code",
   "execution_count": 14,
   "metadata": {},
   "outputs": [
    {
     "output_type": "execute_result",
     "data": {
      "text/plain": [
       "['version1_Lexical.pkl']"
      ]
     },
     "metadata": {},
     "execution_count": 14
    }
   ],
   "source": [
    "from joblib import dump, load\n",
    "dump(clf, 'version1_Lexical.pkl')\n"
   ]
  },
  {
   "cell_type": "code",
   "execution_count": 15,
   "metadata": {},
   "outputs": [
    {
     "output_type": "display_data",
     "data": {
      "text/plain": "<Figure size 432x288 with 2 Axes>",
      "image/png": "[encoded data removed]"
     },
     "metadata": {
      "needs_background": "light"
     }
    }
   ],
   "source": [
    "from sklearn.metrics import plot_confusion_matrix, classification_report, f1_score\n",
    "import matplotlib.pyplot as plt\n",
    "matrix = plot_confusion_matrix(clf, X_test, y_test,\n",
    "                                 cmap=plt.cm.Blues,\n",
    "                                 normalize='true')\n",
    "plt.title('Confusion matrix for our classifier')\n",
    "plt.show(matrix)\n",
    "plt.show()"
   ]
  },
  {
   "cell_type": "code",
   "execution_count": 16,
   "metadata": {},
   "outputs": [
    {
     "output_type": "stream",
     "name": "stdout",
     "text": [
      "0.9728785510710674\n"
     ]
    }
   ],
   "source": [
    "print(f1_score(y_train, clf.predict(X_train)))"
   ]
  },
  {
   "cell_type": "code",
   "execution_count": 17,
   "metadata": {},
   "outputs": [
    {
     "output_type": "stream",
     "name": "stdout",
     "text": [
      "0.9619883040935673\n"
     ]
    }
   ],
   "source": [
    "print(f1_score(y_test, clf.predict(X_test)))"
   ]
  },
  {
   "cell_type": "code",
   "execution_count": 18,
   "metadata": {},
   "outputs": [
    {
     "output_type": "display_data",
     "data": {
      "text/plain": "<Figure size 432x288 with 2 Axes>",
      "image/png": "[encoded data removed]"
     },
     "metadata": {
      "needs_background": "light"
     }
    }
   ],
   "source": [
    "from sklearn.metrics import plot_confusion_matrix, classification_report, f1_score\n",
    "import matplotlib.pyplot as plt\n",
    "matrix = plot_confusion_matrix(clf, X_train, y_train,\n",
    "                                 cmap=plt.cm.Blues,\n",
    "                                 normalize='true')\n",
    "plt.title('Confusion matrix for our classifier')\n",
    "plt.show(matrix)\n",
    "plt.show()"
   ]
  },
  {
   "cell_type": "code",
   "execution_count": 19,
   "metadata": {},
   "outputs": [
    {
     "output_type": "stream",
     "name": "stdout",
     "text": [
      "              precision    recall  f1-score   support\n\n           0       0.97      0.98      0.97      5443\n           1       0.98      0.97      0.97      5472\n\n    accuracy                           0.97     10915\n   macro avg       0.97      0.97      0.97     10915\nweighted avg       0.97      0.97      0.97     10915\n\n"
     ]
    }
   ],
   "source": [
    "print(classification_report(y_train, clf.predict(X_train)))"
   ]
  },
  {
   "cell_type": "code",
   "execution_count": 20,
   "metadata": {},
   "outputs": [
    {
     "output_type": "stream",
     "name": "stdout",
     "text": [
      "              precision    recall  f1-score   support\n\n           0       0.96      0.96      0.96      1361\n           1       0.96      0.96      0.96      1368\n\n    accuracy                           0.96      2729\n   macro avg       0.96      0.96      0.96      2729\nweighted avg       0.96      0.96      0.96      2729\n\n"
     ]
    }
   ],
   "source": [
    "print(classification_report(y_test, clf.predict(X_test)))"
   ]
  },
  {
   "cell_type": "code",
   "execution_count": 21,
   "metadata": {},
   "outputs": [
    {
     "output_type": "execute_result",
     "data": {
      "text/plain": [
       "array([0], dtype=int64)"
      ]
     },
     "metadata": {},
     "execution_count": 21
    }
   ],
   "source": [
    "f = np.array(extract_features('https://www.ramramram.com/'))[temp].reshape(1,-1)\n",
    "clf.predict(f)"
   ]
  },
  {
   "cell_type": "code",
   "execution_count": null,
   "metadata": {},
   "outputs": [],
   "source": []
  }
 ]
}