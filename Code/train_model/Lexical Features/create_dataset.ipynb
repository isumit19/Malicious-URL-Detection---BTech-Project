{
 "metadata": {
  "language_info": {
   "codemirror_mode": {
    "name": "ipython",
    "version": 3
   },
   "file_extension": ".py",
   "mimetype": "text/x-python",
   "name": "python",
   "nbconvert_exporter": "python",
   "pygments_lexer": "ipython3",
   "version": "3.6.0"
  },
  "orig_nbformat": 2,
  "kernelspec": {
   "name": "python36064bit2dcd7765990c4d5bbe4a3dbd7fbebdb3",
   "display_name": "Python 3.6.0 64-bit"
  },
  "metadata": {
   "interpreter": {
    "hash": "6ba569e6e14c6a6cb30034dc09f2ba2802082f0801da3ce64789f0f071e12900"
   }
  }
 },
 "nbformat": 4,
 "nbformat_minor": 2,
 "cells": [
  {
   "cell_type": "code",
   "execution_count": 36,
   "metadata": {},
   "outputs": [],
   "source": [
    "import pandas as pd\n",
    "benign_set = pd.read_csv('dataset/benign_url.csv')\n",
    "malicious_set = pd.read_csv('dataset/malicious_url.csv')[['url']]\n",
    "malicious_set.insert(1, 'label', 1)"
   ]
  },
  {
   "cell_type": "code",
   "execution_count": 37,
   "metadata": {
    "tags": []
   },
   "outputs": [
    {
     "output_type": "stream",
     "name": "stderr",
     "text": [
      "ipykernel_launcher:10: SettingWithCopyWarning: \nA value is trying to be set on a copy of a slice from a DataFrame.\nTry using .loc[row_indexer,col_indexer] = value instead\n\nSee the caveats in the documentation: http://pandas.pydata.org/pandas-docs/stable/indexing.html#indexing-view-versus-copy\n"
     ]
    }
   ],
   "source": [
    "dataset2_csv = pd.read_csv('dataset/dataset.csv').sample(frac=1).reset_index(drop=True)\n",
    "\n",
    "\n",
    "df2_malicious = dataset2_csv.loc[dataset2_csv['label']==1]\n",
    "for i in df2_malicious.index:\n",
    "    df2_malicious.at[i, 'url'] =  'http://'+df2_malicious.at[i, 'url'] if df2_malicious.at[i, 'url'].strip().startswith(\"http\")==False else df2_malicious.at[i, 'url']\n",
    "\n",
    "\n",
    "df2_benign = dataset2_csv.loc[dataset2_csv['label']==0]\n",
    "df2_benign['url']  = 'http://www.'+df2_benign['url'].astype(str)\n",
    "malicious_set = malicious_set.append(df2_malicious, ignore_index = True)\n",
    "benign_set = benign_set.append(df2_benign, ignore_index = True)"
   ]
  },
  {
   "cell_type": "code",
   "execution_count": 38,
   "metadata": {},
   "outputs": [],
   "source": [
    "min_length = min(len(malicious_set), len(benign_set))\n",
    "dataset = malicious_set[:min_length].append(benign_set[:min_length], ignore_index = True).sample(frac=1).reset_index(drop=True)\n",
    "dataset.to_csv('final_dataset.csv',index=False)"
   ]
  },
  {
   "cell_type": "code",
   "execution_count": null,
   "metadata": {},
   "outputs": [],
   "source": []
  }
 ]
}